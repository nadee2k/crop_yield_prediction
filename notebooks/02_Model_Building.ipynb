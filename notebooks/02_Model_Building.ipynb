{
 "cells": [
  {
   "cell_type": "code",
   "execution_count": 5,
   "id": "f27bba2e",
   "metadata": {},
   "outputs": [
    {
     "name": "stdout",
     "output_type": "stream",
     "text": [
      "RMSE: 44.68088237714187\n",
      "R2: 0.8422612345679023\n"
     ]
    },
    {
     "data": {
      "text/plain": [
       "['../models/best_model.pkl']"
      ]
     },
     "execution_count": 5,
     "metadata": {},
     "output_type": "execute_result"
    }
   ],
   "source": [
    "import pandas as pd\n",
    "from sklearn.model_selection import train_test_split\n",
    "from sklearn.ensemble import RandomForestRegressor\n",
    "from sklearn.metrics import mean_squared_error, r2_score\n",
    "import numpy as np\n",
    "import joblib\n",
    "\n",
    "# Load CSVs\n",
    "yield_df = pd.read_csv('../data/crop_yield.csv')\n",
    "weather_df = pd.read_csv('../data/weather.csv')\n",
    "soil_df = pd.read_csv('../data/soil.csv')\n",
    "\n",
    "# Merge\n",
    "df = pd.merge(yield_df, weather_df, on=['location', 'year'])\n",
    "df = pd.merge(df, soil_df, on='location')\n",
    "\n",
    "# Features and target\n",
    "features = [\n",
    "    'avg_temp (°C)', \n",
    "    'rainfall (mm)', \n",
    "    'humidity (%)',\n",
    "    'soil_ph', \n",
    "    'soil_nitrogen (%)',\n",
    "    'location',\n",
    "    'variety'\n",
    "]\n",
    "target = 'yield (kg/hectare)'\n",
    "\n",
    "# Prepare data\n",
    "X = df[features]\n",
    "y = df[target]\n",
    "\n",
    "# One-hot encode categorical\n",
    "X = pd.get_dummies(X)\n",
    "\n",
    "# Split\n",
    "X_train, X_test, y_train, y_test = train_test_split(\n",
    "    X, y, test_size=0.2, random_state=42\n",
    ")\n",
    "\n",
    "# Model\n",
    "rf = RandomForestRegressor(n_estimators=100, random_state=42)\n",
    "rf.fit(X_train, y_train)\n",
    "\n",
    "# Predict\n",
    "y_pred = rf.predict(X_test)\n",
    "\n",
    "# Evaluate\n",
    "print('RMSE:', np.sqrt(mean_squared_error(y_test, y_pred)))\n",
    "print('R2:', r2_score(y_test, y_pred))\n",
    "\n",
    "# Save model\n",
    "joblib.dump(rf, '../models/best_model.pkl')\n"
   ]
  }
 ],
 "metadata": {
  "kernelspec": {
   "display_name": ".venv",
   "language": "python",
   "name": "python3"
  },
  "language_info": {
   "codemirror_mode": {
    "name": "ipython",
    "version": 3
   },
   "file_extension": ".py",
   "mimetype": "text/x-python",
   "name": "python",
   "nbconvert_exporter": "python",
   "pygments_lexer": "ipython3",
   "version": "3.13.3"
  }
 },
 "nbformat": 4,
 "nbformat_minor": 5
}
